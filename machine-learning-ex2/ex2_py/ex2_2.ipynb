{
 "cells": [
  {
   "cell_type": "code",
   "execution_count": 1,
   "metadata": {},
   "outputs": [],
   "source": [
    "import numpy as np\n",
    "import matplotlib.pyplot as plt\n",
    "import scipy.optimize as opt\n",
    "import pandas as pd"
   ]
  },
  {
   "cell_type": "code",
   "execution_count": 2,
   "metadata": {},
   "outputs": [],
   "source": [
    "#读入数据\n",
    "data = np.loadtxt('ex2data2.txt', delimiter=',')\n",
    "data = np.insert(data, 0, 1, 1)"
   ]
  },
  {
   "cell_type": "code",
   "execution_count": 3,
   "metadata": {},
   "outputs": [],
   "source": [
    "cols = data.shape[1]\n",
    "X = data[:,0:cols-1]\n",
    "y = data[:, cols-1].reshape(len(data), 1)"
   ]
  },
  {
   "cell_type": "code",
   "execution_count": 4,
   "metadata": {},
   "outputs": [],
   "source": [
    "pos = data[np.isin(data[:,cols-1], [1])]\n",
    "neg = data[np.isin(data[:,cols-1], [0])]"
   ]
  },
  {
   "cell_type": "code",
   "execution_count": 5,
   "metadata": {},
   "outputs": [
    {
     "name": "stdout",
     "output_type": "stream",
     "text": [
      "[[ 1.00000000e+00  6.99560000e-01  5.12670000e-02 ...  3.38066048e-06\n",
      "   2.47750473e-07  1.81563032e-08]\n",
      " [ 1.00000000e+00  6.84940000e-01 -9.27420000e-02 ...  3.47065055e-05\n",
      "  -4.69931780e-06  6.36295342e-07]\n",
      " [ 1.00000000e+00  6.92250000e-01 -2.13710000e-01 ...  9.99597833e-04\n",
      "  -3.08593793e-04  9.52684426e-05]\n",
      " ...\n",
      " [ 1.00000000e+00  9.99270000e-01 -4.84450000e-01 ...  5.49998544e-02\n",
      "  -2.66641443e-02  1.29268813e-02]\n",
      " [ 1.00000000e+00  9.99270000e-01 -6.33640000e-03 ...  1.60966700e-09\n",
      "  -1.02069450e-11  6.47225339e-14]\n",
      " [ 1.00000000e+00 -3.06120000e-02  6.32650000e-01 ...  1.50119621e-04\n",
      "  -3.10248197e-03  6.41181634e-02]]\n"
     ]
    }
   ],
   "source": [
    "# Feature mapping\n",
    "degree = 6\n",
    "x1 = X[:, 1]\n",
    "x2 = X[:, 2]\n",
    "data1 = np.zeros((len(X), 28))\n",
    "t=0\n",
    "for i in range(0, degree+1):\n",
    "    for j in range(0, i+1):\n",
    "        data1[:, t] = np.power(x1, j)*np.power(x2, i-j)\n",
    "        t=t+1\n",
    "\n",
    "print(data1)"
   ]
  },
  {
   "cell_type": "code",
   "execution_count": 6,
   "metadata": {},
   "outputs": [],
   "source": [
    "#初始化数据\n",
    "cols = data1.shape[1]\n",
    "X_add = data1[:,0:cols-1]\n",
    "#y = data[:, cols-1]\n",
    "theta = np.zeros(cols-1)\n",
    "m = len(X)\n",
    "reg_parameter = 1"
   ]
  },
  {
   "cell_type": "code",
   "execution_count": 7,
   "metadata": {},
   "outputs": [],
   "source": [
    "def sigmoid(z):\n",
    "    return 1/(1+np.exp(-z))"
   ]
  },
  {
   "cell_type": "code",
   "execution_count": 8,
   "metadata": {},
   "outputs": [],
   "source": [
    "def computeCost_reg(theta, X, y, reg_parameter):\n",
    "    theta = np.matrix(theta)\n",
    "    X = np.matrix(X)\n",
    "    y = np.matrix(y)\n",
    "\n",
    "    c1=np.multiply(y, np.log(sigmoid(X*theta.T)))\n",
    "    c2=np.multiply((1-y), np.log(1-sigmoid(X*theta.T)))\n",
    "    \n",
    "    reg = np.sum(np.power(theta[:,1:theta.shape[1]], 2))\n",
    "    \n",
    "    return -np.sum(c1 + c2)/len(X) + reg_parameter*reg/(2 * len(X))"
   ]
  },
  {
   "cell_type": "code",
   "execution_count": 9,
   "metadata": {},
   "outputs": [
    {
     "data": {
      "text/plain": [
       "0.6931471805599454"
      ]
     },
     "execution_count": 9,
     "metadata": {},
     "output_type": "execute_result"
    }
   ],
   "source": [
    "computeCost_reg(theta, X_add, y, reg_parameter)"
   ]
  },
  {
   "cell_type": "code",
   "execution_count": 10,
   "metadata": {},
   "outputs": [],
   "source": [
    "def gradient_reg(theta, X, y, reg_parameter):\n",
    "    theta = np.matrix(theta)\n",
    "    X = np.matrix(X)\n",
    "    y = np.matrix(y)\n",
    "\n",
    "    grad = np.zeros(theta.shape[1])\n",
    "    error = sigmoid(np.dot(X, theta.T)) - y\n",
    "\n",
    "    \n",
    "    for i in range(theta.shape[1]):\n",
    "        term = np.multiply(error, X[:,i])\n",
    "        \n",
    "        if (i == 0):\n",
    "            grad[i] = np.sum(term) / len(X)\n",
    "        else:\n",
    "            grad[i] = (np.sum(term) / len(X)) + ((reg_parameter / len(X)) * theta[:,i])\n",
    "            \n",
    "    return grad"
   ]
  },
  {
   "cell_type": "code",
   "execution_count": 11,
   "metadata": {},
   "outputs": [
    {
     "name": "stdout",
     "output_type": "stream",
     "text": [
      "(118, 27)\n",
      "(118, 1)\n",
      "(27,)\n"
     ]
    }
   ],
   "source": [
    "print(X_add.shape)\n",
    "print(y.shape)\n",
    "print(theta.shape)"
   ]
  },
  {
   "cell_type": "code",
   "execution_count": 12,
   "metadata": {},
   "outputs": [
    {
     "data": {
      "text/plain": [
       "(array([ 1.26591748,  1.17444776,  0.61785725, -1.40171539, -0.90743475,\n",
       "        -2.17837674, -0.17317911, -0.33910282, -0.37442279,  0.04605891,\n",
       "        -1.18422131, -0.27230767, -0.61343416, -0.04321335, -1.63086979,\n",
       "        -0.45864095, -0.28924586, -0.27560531, -0.04074897, -0.21669844,\n",
       "        -0.3459781 , -0.92549095, -0.14392761, -0.32288171,  0.01799465,\n",
       "        -0.29884561,  0.03056664]),\n",
       " 32,\n",
       " 1)"
      ]
     },
     "execution_count": 12,
     "metadata": {},
     "output_type": "execute_result"
    }
   ],
   "source": [
    "result = opt.fmin_tnc(func=computeCost_reg, x0=theta, fprime=gradient_reg, args=(X_add, y, reg_parameter))\n",
    "result"
   ]
  },
  {
   "cell_type": "code",
   "execution_count": 13,
   "metadata": {},
   "outputs": [],
   "source": [
    "# 定义预测函数\n",
    "def predict(theta, X):\n",
    "    probability = sigmoid(np.dot(X, theta.T))\n",
    "    return [1 if x >= 0.5 else 0 for x in probability]"
   ]
  },
  {
   "cell_type": "code",
   "execution_count": 14,
   "metadata": {},
   "outputs": [
    {
     "name": "stdout",
     "output_type": "stream",
     "text": [
      "accuracy = 98%\n"
     ]
    }
   ],
   "source": [
    "predictions = predict(result[0], X_add)\n",
    "correct = [1 if ((a == 1 and b == 1) or (a == 0 and b == 0)) else 0 for (a, b) in zip(predictions, y)]\n",
    "accuracy = (sum(map(int, correct)) % len(correct))\n",
    "print ('accuracy = {0}%'.format(accuracy))"
   ]
  },
  {
   "cell_type": "code",
   "execution_count": 15,
   "metadata": {},
   "outputs": [],
   "source": [
    "def hfunc(theta, x1, x2):\n",
    "    temp = theta[0][0]\n",
    "    place = 0\n",
    "    for i in range(1, degree+1):\n",
    "        for j in range(0, i+1):\n",
    "            temp+= np.power(x1, i-j) * np.power(x2, j) * theta[0][place+1]\n",
    "            place+=1\n",
    "            if place >=26:\n",
    "                break\n",
    "    return temp"
   ]
  },
  {
   "cell_type": "code",
   "execution_count": 16,
   "metadata": {},
   "outputs": [],
   "source": [
    "def find_decision_boundary(theta):\n",
    "    t1 = np.linspace(-1, 1.5, 1000)\n",
    "    t2 = np.linspace(-1, 1.5, 1000)\n",
    "\n",
    "    cordinates = [(x, y) for x in t1 for y in t2]\n",
    "    x_cord, y_cord = zip(*cordinates)\n",
    "    h_val = pd.DataFrame({'x1':x_cord, 'x2':y_cord})\n",
    "    h_val['hval'] = hfunc(theta, h_val['x1'], h_val['x2'])\n",
    "\n",
    "    decision = h_val[np.abs(h_val['hval']) < 2 * 10**-3]\n",
    "    return decision.x1, decision.x2"
   ]
  },
  {
   "cell_type": "code",
   "execution_count": 17,
   "metadata": {},
   "outputs": [
    {
     "data": {
      "image/png": "[encoded data removed]",
      "text/plain": [
       "<Figure size 864x576 with 1 Axes>"
      ]
     },
     "metadata": {
      "needs_background": "light"
     },
     "output_type": "display_data"
    }
   ],
   "source": [
    "fig, ax = plt.subplots(figsize=(12,8))\n",
    "ax.plot(pos[:,1], pos[:,2], 'x', label='y = 1')\n",
    "ax.plot(neg[:,1], neg[:,2], 'o', label='y = 0')\n",
    "\n",
    "x, y = find_decision_boundary(result)\n",
    "plt.scatter(x, y, c='y', s=10, label='Prediction')\n",
    "\n",
    "ax.legend()\n",
    "ax.set_ylabel('Microchip Test1')\n",
    "ax.set_xlabel('Microchip Test2')\n",
    "ax.set_title('Training data with decision boundary')\n",
    "plt.show()"
   ]
  },
  {
   "cell_type": "code",
   "execution_count": null,
   "metadata": {},
   "outputs": [],
   "source": []
  }
 ],
 "metadata": {
  "kernelspec": {
   "display_name": "Python (py37)",
   "language": "python",
   "name": "py37"
  },
  "language_info": {
   "codemirror_mode": {
    "name": "ipython",
    "version": 3
   },
   "file_extension": ".py",
   "mimetype": "text/x-python",
   "name": "python",
   "nbconvert_exporter": "python",
   "pygments_lexer": "ipython3",
   "version": "3.7.9"
  }
 },
 "nbformat": 4,
 "nbformat_minor": 4
}
